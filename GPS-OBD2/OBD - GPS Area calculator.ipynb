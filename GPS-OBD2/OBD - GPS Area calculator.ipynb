{
 "cells": [
  {
   "cell_type": "markdown",
   "metadata": {},
   "source": [
    "<p style=\"font-family: Arial; font-size:3.75em;color:purple; font-style:bold\"><br>\n",
    "OBD Area Calculator</p><br>\n",
    "\n",
    "# Using Folium Library for Geographic Overlays\n",
    "\n",
    "<p style=\"font-family: Arial; font-size:1.75em;color:#2462C0; font-style:bold\">\n",
    "Objective</p> <br> User will give an input GPS coordinate along with radius in meters. Program should calculate the area of circle (in meters square) and alert user if coordinate exceeds area.\n",
    "\n",
    "<p style=\"font-family: Arial; font-size:1.75em;color:#2462C0; font-style:bold\">\n",
    "Importing Libraries</p>"
   ]
  },
  {
   "cell_type": "code",
   "execution_count": 1,
   "metadata": {},
   "outputs": [],
   "source": [
    "import folium\n",
    "import numpy as np\n",
    "from IPython.display import HTML\n",
    "from math import sin, cos, sqrt, atan2, radians"
   ]
  },
  {
   "cell_type": "markdown",
   "metadata": {},
   "source": [
    "<p style=\"font-family: Arial; font-size:1.75em;color:#2462C0; font-style:bold\">\n",
    "Input from User</p>\n",
    "\n",
    "### Input contains the following\n",
    "- **Latitude**\n",
    "- **Longitude**\n",
    "- **Radius** (in meters)\n",
    "\n",
    "#### For reference Chennai LAT and LONG is as follows\n",
    "- 13.0827\n",
    "- 80.2707"
   ]
  },
  {
   "cell_type": "code",
   "execution_count": 2,
   "metadata": {},
   "outputs": [
    {
     "name": "stdout",
     "output_type": "stream",
     "text": [
      "Input Latitude : 13.0827\n",
      "Input Longitude: 80.2707\n"
     ]
    }
   ],
   "source": [
    "lat = input(\"Input Latitude : \")\n",
    "lon = input(\"Input Longitude: \")"
   ]
  },
  {
   "cell_type": "code",
   "execution_count": 3,
   "metadata": {},
   "outputs": [
    {
     "name": "stdout",
     "output_type": "stream",
     "text": [
      "Enter radius in meters: 500\n"
     ]
    }
   ],
   "source": [
    "radius = input(\"Enter radius in meters: \")"
   ]
  },
  {
   "cell_type": "markdown",
   "metadata": {},
   "source": [
    "<p style=\"font-family: Arial; font-size:1.75em;color:#2462C0; font-style:bold\">\n",
    "Creating and storing map as HTML</p>"
   ]
  },
  {
   "cell_type": "code",
   "execution_count": 4,
   "metadata": {},
   "outputs": [],
   "source": [
    "mapit = folium.Map( location=[lat, lon], zoom_start=15 )\n",
    "folium.Marker( location=[ lat, lon ], \n",
    "              popup='OBD Initial Location (ID): <br> 65615765277',\n",
    "              fill_color='#43d9de', \n",
    "              tooltip=\"Initial location\",\n",
    "              radius=radius ).add_to( mapit )\n",
    "folium.Circle([lat, lon],\n",
    "              radius=radius,\n",
    "              fill=True,\n",
    "                   ).add_to(mapit)\n",
    "mapit.save('./GeoMaps/current_0_location.html')"
   ]
  },
  {
   "cell_type": "code",
   "execution_count": 5,
   "metadata": {},
   "outputs": [
    {
     "name": "stderr",
     "output_type": "stream",
     "text": [
      "/opt/anaconda3/lib/python3.8/site-packages/IPython/core/display.py:717: UserWarning: Consider using IPython.display.IFrame instead\n",
      "  warnings.warn(\"Consider using IPython.display.IFrame instead\")\n"
     ]
    },
    {
     "data": {
      "text/html": [
       "<iframe src=./GeoMaps/current_0_location.html width=700 height=450></iframe>"
      ],
      "text/plain": [
       "<IPython.core.display.HTML object>"
      ]
     },
     "execution_count": 5,
     "metadata": {},
     "output_type": "execute_result"
    }
   ],
   "source": [
    "HTML('<iframe src=./GeoMaps/current_0_location.html width=700 height=450></ifrme>')"
   ]
  },
  {
   "cell_type": "markdown",
   "metadata": {},
   "source": [
    "<p style=\"font-family: Arial; font-size:1.75em;color:#2462C0; font-style:bold\">\n",
    "Getting input from OBD device and checking if device is in the radius</p>"
   ]
  },
  {
   "cell_type": "code",
   "execution_count": 6,
   "metadata": {},
   "outputs": [
    {
     "name": "stdout",
     "output_type": "stream",
     "text": [
      "Initial Device Latitude :  13.0827\n",
      "Enter current latitude of OBD :13.0840\n",
      "Initial Device Longitude:  80.2707\n",
      "Enter current longitude of OBD:80.2711\n",
      "Result:\n",
      "In KM.   :  0.15095331687700103 km\n",
      "In meters:  150.95331687700104 m\n"
     ]
    }
   ],
   "source": [
    "# approximate radius of earth in km\n",
    "R = 6373.0\n",
    "#------------------------------------------------\n",
    "lat1 = radians(float(lat))\n",
    "lon1 = radians(float(lon))\n",
    "#------------------------------------------------\n",
    "print(\"Initial Device Latitude : \", lat)\n",
    "lat_obd = input(\"Enter current latitude of OBD :\")\n",
    "print(\"Initial Device Longitude: \", lon)\n",
    "lon_obd = input(\"Enter current longitude of OBD:\")\n",
    "lat2 = radians(float(lat_obd))\n",
    "lon2 = radians(float(lon_obd))\n",
    "#------------------------------------------------\n",
    "\n",
    "dlon = lon2 - lon1\n",
    "dlat = lat2 - lat1\n",
    "\n",
    "a = sin(dlat / 2)**2 + cos(lat1) * cos(lat2) * sin(dlon / 2)**2\n",
    "c = 2 * atan2(sqrt(a), sqrt(1 - a))\n",
    "\n",
    "distance = R * c\n",
    "\n",
    "print(\"Result:\")\n",
    "print(\"In KM.   : \", distance, \"km\")\n",
    "print(\"In meters: \", distance*1000, \"m\")"
   ]
  },
  {
   "cell_type": "markdown",
   "metadata": {},
   "source": [
    "<p style=\"font-family: Arial; font-size:1.75em;color:#2462C0; font-style:bold\">\n",
    "Alerting or Notification</p>"
   ]
  },
  {
   "cell_type": "code",
   "execution_count": 7,
   "metadata": {},
   "outputs": [
    {
     "name": "stdout",
     "output_type": "stream",
     "text": [
      "OBD device is under given area\n"
     ]
    }
   ],
   "source": [
    "if distance*1000 <= float(radius):\n",
    "    print(\"OBD device is under given area\")\n",
    "else:\n",
    "    print(\"OBD device is NOT under given area\")"
   ]
  },
  {
   "cell_type": "markdown",
   "metadata": {},
   "source": [
    "<p style=\"font-family: Arial; font-size:1.75em;color:#2462C0; font-style:bold\">\n",
    "Showing current location on map</p>"
   ]
  },
  {
   "cell_type": "code",
   "execution_count": 8,
   "metadata": {},
   "outputs": [],
   "source": [
    "map_obd = folium.Map( location=[lat, lon], zoom_start=15 )\n",
    "folium.Marker( location=[ lat, lon ], fill_color='#43d9de', radius=radius ).add_to( map_obd )\n",
    "if distance*1000 <= float(radius):\n",
    "    folium.Marker( location=[ lat_obd, lon_obd ], \n",
    "                  popup='OBD Device No: <br> 65615765277',\n",
    "                  #icon=folium.Icon(icon=\"cloud\", color='green'),\n",
    "                  tooltip=\"OBD Device\",\n",
    "                  radius=radius ).add_to( map_obd )\n",
    "else:\n",
    "    folium.Marker( location=[ lat_obd, lon_obd ],\n",
    "                  popup='OBD Device No: <br> 65615765277',\n",
    "                  #icon=folium.Icon(icon=\"cloud\", color='red'),\n",
    "                  tooltip=\"OBD Device\",\n",
    "                  radius=radius ).add_to( map_obd )\n",
    "\n",
    "folium.Circle([lat, lon],\n",
    "              radius=radius,\n",
    "              fill=True,\n",
    "                   ).add_to(map_obd)\n",
    "map_obd.add_child(folium.LatLngPopup())\n",
    "map_obd.save('./GeoMaps/current_OBD_current_location.html')"
   ]
  },
  {
   "cell_type": "code",
   "execution_count": 9,
   "metadata": {},
   "outputs": [
    {
     "data": {
      "text/html": [
       "<iframe src=./GeoMaps/current_OBD_current_location.html width=700 height=450></iframe>"
      ],
      "text/plain": [
       "<IPython.core.display.HTML object>"
      ]
     },
     "execution_count": 9,
     "metadata": {},
     "output_type": "execute_result"
    }
   ],
   "source": [
    "HTML('<iframe src=./GeoMaps/current_OBD_current_location.html width=700 height=450></iframe>')"
   ]
  },
  {
   "cell_type": "code",
   "execution_count": null,
   "metadata": {},
   "outputs": [],
   "source": []
  }
 ],
 "metadata": {
  "kernelspec": {
   "display_name": "Python 3",
   "language": "python",
   "name": "python3"
  },
  "language_info": {
   "codemirror_mode": {
    "name": "ipython",
    "version": 3
   },
   "file_extension": ".py",
   "mimetype": "text/x-python",
   "name": "python",
   "nbconvert_exporter": "python",
   "pygments_lexer": "ipython3",
   "version": "3.8.5"
  }
 },
 "nbformat": 4,
 "nbformat_minor": 4
}
